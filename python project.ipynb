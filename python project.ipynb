{
 "cells": [
  {
   "cell_type": "code",
   "execution_count": 1,
   "metadata": {},
   "outputs": [
    {
     "name": "stdout",
     "output_type": "stream",
     "text": [
      "how many password you want (max 3)\n",
      "2\n",
      "len of password you want (min 5)\n",
      "5\n",
      "Uxq1@\n",
      "Bjc6.\n",
      "do you wanna cont. yes(y)/no(n)\n",
      "Y\n"
     ]
    }
   ],
   "source": [
    "import random\n",
    "class password:\n",
    "    a=0\n",
    "    b=0\n",
    "    digit = ['0', '1', '2', '3', '4', '5', '6', '7', '8', '9']\n",
    "    l_letter = ['a', 'b', 'c', 'd', 'e', 'f', 'g', 'h', 'i', 'j', 'k', 'm', 'n', 'o', 'p', 'q', 'r', 's', 't', 'u', 'v', 'w','x', 'y', 'z']\n",
    "    u_letter = ['A', 'B', 'C', 'D', 'E', 'F', 'G', 'H', 'I', 'J', 'K', 'M', 'N', 'O', 'p', 'Q', 'R', 'S', 'T', 'U', 'V', 'W','X', 'Y', 'Z']\n",
    "    symbol = ['@', '#', '$', '%', '=', ':', '?', '.', '/', '|', '~', '>', '*', '(', ')']\n",
    "    e = digit + l_letter + u_letter + symbol\n",
    "    def passo(self):\n",
    "        x=0\n",
    "        f = random.choice(self.u_letter) + random.choice(self.l_letter) + random.choice(self.l_letter) + random.choice(self.digit) + random.choice(self.symbol)\n",
    "        y = self.b - 5\n",
    "        while (x < y):\n",
    "                f = f + random.choice(self.e)\n",
    "                x = x + 1\n",
    "        print(f)\n",
    "\n",
    "p=password()\n",
    "while True :\n",
    "    x=0\n",
    "    print(\"how many password you want (max 3)\")\n",
    "    z=int(input())\n",
    "    if(z>3 or z<1):\n",
    "        print(\"invalid input\")\n",
    "    else:\n",
    "        print(\"len of password you want (min 5)\")\n",
    "        y = int(input())\n",
    "        if (y<5):\n",
    "            print(\"len is too short\")\n",
    "        else:\n",
    "            p.a=z\n",
    "            p.b=y\n",
    "            while(z!=x):\n",
    "                p.passo()\n",
    "                x=x+1\n",
    "    print(\"do you wanna cont. yes(y)/no(n)\")\n",
    "    g = input()\n",
    "    if (g!='y'or g!='Y'):\n",
    "        break"
   ]
  },
  {
   "cell_type": "code",
   "execution_count": null,
   "metadata": {},
   "outputs": [],
   "source": []
  }
 ],
 "metadata": {
  "kernelspec": {
   "display_name": "Python 3",
   "language": "python",
   "name": "python3"
  },
  "language_info": {
   "codemirror_mode": {
    "name": "ipython",
    "version": 3
   },
   "file_extension": ".py",
   "mimetype": "text/x-python",
   "name": "python",
   "nbconvert_exporter": "python",
   "pygments_lexer": "ipython3",
   "version": "3.7.6"
  }
 },
 "nbformat": 4,
 "nbformat_minor": 4
}
